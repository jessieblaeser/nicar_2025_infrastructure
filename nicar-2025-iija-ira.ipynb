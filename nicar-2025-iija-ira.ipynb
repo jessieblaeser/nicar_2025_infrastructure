{
 "cells": [
  {
   "cell_type": "markdown",
   "id": "00f4e043-fc39-4d24-bb79-5f4c30b2f0b5",
   "metadata": {},
   "source": [
    "# IRA and IIJA data "
   ]
  },
  {
   "cell_type": "code",
   "execution_count": 1,
   "id": "9140cc79-6078-47b4-bf8f-931fc1381234",
   "metadata": {},
   "outputs": [],
   "source": [
    "import pandas as pd\n",
    "import numpy as np\n",
    "import humanize\n",
    "import altair as alt"
   ]
  },
  {
   "cell_type": "code",
   "execution_count": null,
   "id": "1d9e65d8-8b69-42f9-a14e-2d31c6476e49",
   "metadata": {},
   "outputs": [],
   "source": []
  }
 ],
 "metadata": {
  "kernelspec": {
   "display_name": "Python 3 (ipykernel)",
   "language": "python",
   "name": "python3"
  },
  "language_info": {
   "codemirror_mode": {
    "name": "ipython",
    "version": 3
   },
   "file_extension": ".py",
   "mimetype": "text/x-python",
   "name": "python",
   "nbconvert_exporter": "python",
   "pygments_lexer": "ipython3",
   "version": "3.11.8"
  }
 },
 "nbformat": 4,
 "nbformat_minor": 5
}
